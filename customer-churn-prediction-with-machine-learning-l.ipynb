{
 "cells": [
  {
   "cell_type": "code",
   "execution_count": 1,
   "id": "7d898b07",
   "metadata": {
    "execution": {
     "iopub.execute_input": "2025-05-15T15:08:55.715634Z",
     "iopub.status.busy": "2025-05-15T15:08:55.715082Z",
     "iopub.status.idle": "2025-05-15T15:09:00.397301Z",
     "shell.execute_reply": "2025-05-15T15:09:00.396456Z"
    },
    "papermill": {
     "duration": 4.696152,
     "end_time": "2025-05-15T15:09:00.399062",
     "exception": false,
     "start_time": "2025-05-15T15:08:55.702910",
     "status": "completed"
    },
    "tags": []
   },
   "outputs": [],
   "source": [
    "import pandas as pd\n",
    "from sklearn.preprocessing import LabelEncoder\n",
    "from sklearn.model_selection import train_test_split\n",
    "from sklearn.preprocessing import StandardScaler\n",
    "from sklearn.linear_model import LogisticRegression\n",
    "from sklearn.ensemble import RandomForestClassifier\n",
    "from sklearn.metrics import accuracy_score, f1_score"
   ]
  },
  {
   "cell_type": "code",
   "execution_count": 2,
   "id": "724927a7",
   "metadata": {
    "execution": {
     "iopub.execute_input": "2025-05-15T15:09:00.411506Z",
     "iopub.status.busy": "2025-05-15T15:09:00.410569Z",
     "iopub.status.idle": "2025-05-15T15:09:00.513704Z",
     "shell.execute_reply": "2025-05-15T15:09:00.512682Z"
    },
    "papermill": {
     "duration": 0.110968,
     "end_time": "2025-05-15T15:09:00.515534",
     "exception": false,
     "start_time": "2025-05-15T15:09:00.404566",
     "status": "completed"
    },
    "tags": []
   },
   "outputs": [],
   "source": [
    "data = pd.read_csv('/kaggle/input/telco-customer-churn/WA_Fn-UseC_-Telco-Customer-Churn.csv')"
   ]
  },
  {
   "cell_type": "code",
   "execution_count": 3,
   "id": "81cef8ab",
   "metadata": {
    "execution": {
     "iopub.execute_input": "2025-05-15T15:09:00.528387Z",
     "iopub.status.busy": "2025-05-15T15:09:00.526750Z",
     "iopub.status.idle": "2025-05-15T15:09:00.573647Z",
     "shell.execute_reply": "2025-05-15T15:09:00.572787Z"
    },
    "papermill": {
     "duration": 0.054396,
     "end_time": "2025-05-15T15:09:00.575169",
     "exception": false,
     "start_time": "2025-05-15T15:09:00.520773",
     "status": "completed"
    },
    "tags": []
   },
   "outputs": [
    {
     "data": {
      "text/html": [
       "<div>\n",
       "<style scoped>\n",
       "    .dataframe tbody tr th:only-of-type {\n",
       "        vertical-align: middle;\n",
       "    }\n",
       "\n",
       "    .dataframe tbody tr th {\n",
       "        vertical-align: top;\n",
       "    }\n",
       "\n",
       "    .dataframe thead th {\n",
       "        text-align: right;\n",
       "    }\n",
       "</style>\n",
       "<table border=\"1\" class=\"dataframe\">\n",
       "  <thead>\n",
       "    <tr style=\"text-align: right;\">\n",
       "      <th></th>\n",
       "      <th>customerID</th>\n",
       "      <th>gender</th>\n",
       "      <th>SeniorCitizen</th>\n",
       "      <th>Partner</th>\n",
       "      <th>Dependents</th>\n",
       "      <th>tenure</th>\n",
       "      <th>PhoneService</th>\n",
       "      <th>MultipleLines</th>\n",
       "      <th>InternetService</th>\n",
       "      <th>OnlineSecurity</th>\n",
       "      <th>...</th>\n",
       "      <th>DeviceProtection</th>\n",
       "      <th>TechSupport</th>\n",
       "      <th>StreamingTV</th>\n",
       "      <th>StreamingMovies</th>\n",
       "      <th>Contract</th>\n",
       "      <th>PaperlessBilling</th>\n",
       "      <th>PaymentMethod</th>\n",
       "      <th>MonthlyCharges</th>\n",
       "      <th>TotalCharges</th>\n",
       "      <th>Churn</th>\n",
       "    </tr>\n",
       "  </thead>\n",
       "  <tbody>\n",
       "    <tr>\n",
       "      <th>0</th>\n",
       "      <td>7590-VHVEG</td>\n",
       "      <td>Female</td>\n",
       "      <td>0</td>\n",
       "      <td>Yes</td>\n",
       "      <td>No</td>\n",
       "      <td>1</td>\n",
       "      <td>No</td>\n",
       "      <td>No phone service</td>\n",
       "      <td>DSL</td>\n",
       "      <td>No</td>\n",
       "      <td>...</td>\n",
       "      <td>No</td>\n",
       "      <td>No</td>\n",
       "      <td>No</td>\n",
       "      <td>No</td>\n",
       "      <td>Month-to-month</td>\n",
       "      <td>Yes</td>\n",
       "      <td>Electronic check</td>\n",
       "      <td>29.85</td>\n",
       "      <td>29.85</td>\n",
       "      <td>No</td>\n",
       "    </tr>\n",
       "    <tr>\n",
       "      <th>1</th>\n",
       "      <td>5575-GNVDE</td>\n",
       "      <td>Male</td>\n",
       "      <td>0</td>\n",
       "      <td>No</td>\n",
       "      <td>No</td>\n",
       "      <td>34</td>\n",
       "      <td>Yes</td>\n",
       "      <td>No</td>\n",
       "      <td>DSL</td>\n",
       "      <td>Yes</td>\n",
       "      <td>...</td>\n",
       "      <td>Yes</td>\n",
       "      <td>No</td>\n",
       "      <td>No</td>\n",
       "      <td>No</td>\n",
       "      <td>One year</td>\n",
       "      <td>No</td>\n",
       "      <td>Mailed check</td>\n",
       "      <td>56.95</td>\n",
       "      <td>1889.5</td>\n",
       "      <td>No</td>\n",
       "    </tr>\n",
       "    <tr>\n",
       "      <th>2</th>\n",
       "      <td>3668-QPYBK</td>\n",
       "      <td>Male</td>\n",
       "      <td>0</td>\n",
       "      <td>No</td>\n",
       "      <td>No</td>\n",
       "      <td>2</td>\n",
       "      <td>Yes</td>\n",
       "      <td>No</td>\n",
       "      <td>DSL</td>\n",
       "      <td>Yes</td>\n",
       "      <td>...</td>\n",
       "      <td>No</td>\n",
       "      <td>No</td>\n",
       "      <td>No</td>\n",
       "      <td>No</td>\n",
       "      <td>Month-to-month</td>\n",
       "      <td>Yes</td>\n",
       "      <td>Mailed check</td>\n",
       "      <td>53.85</td>\n",
       "      <td>108.15</td>\n",
       "      <td>Yes</td>\n",
       "    </tr>\n",
       "    <tr>\n",
       "      <th>3</th>\n",
       "      <td>7795-CFOCW</td>\n",
       "      <td>Male</td>\n",
       "      <td>0</td>\n",
       "      <td>No</td>\n",
       "      <td>No</td>\n",
       "      <td>45</td>\n",
       "      <td>No</td>\n",
       "      <td>No phone service</td>\n",
       "      <td>DSL</td>\n",
       "      <td>Yes</td>\n",
       "      <td>...</td>\n",
       "      <td>Yes</td>\n",
       "      <td>Yes</td>\n",
       "      <td>No</td>\n",
       "      <td>No</td>\n",
       "      <td>One year</td>\n",
       "      <td>No</td>\n",
       "      <td>Bank transfer (automatic)</td>\n",
       "      <td>42.30</td>\n",
       "      <td>1840.75</td>\n",
       "      <td>No</td>\n",
       "    </tr>\n",
       "    <tr>\n",
       "      <th>4</th>\n",
       "      <td>9237-HQITU</td>\n",
       "      <td>Female</td>\n",
       "      <td>0</td>\n",
       "      <td>No</td>\n",
       "      <td>No</td>\n",
       "      <td>2</td>\n",
       "      <td>Yes</td>\n",
       "      <td>No</td>\n",
       "      <td>Fiber optic</td>\n",
       "      <td>No</td>\n",
       "      <td>...</td>\n",
       "      <td>No</td>\n",
       "      <td>No</td>\n",
       "      <td>No</td>\n",
       "      <td>No</td>\n",
       "      <td>Month-to-month</td>\n",
       "      <td>Yes</td>\n",
       "      <td>Electronic check</td>\n",
       "      <td>70.70</td>\n",
       "      <td>151.65</td>\n",
       "      <td>Yes</td>\n",
       "    </tr>\n",
       "  </tbody>\n",
       "</table>\n",
       "<p>5 rows × 21 columns</p>\n",
       "</div>"
      ],
      "text/plain": [
       "   customerID  gender  SeniorCitizen Partner Dependents  tenure PhoneService  \\\n",
       "0  7590-VHVEG  Female              0     Yes         No       1           No   \n",
       "1  5575-GNVDE    Male              0      No         No      34          Yes   \n",
       "2  3668-QPYBK    Male              0      No         No       2          Yes   \n",
       "3  7795-CFOCW    Male              0      No         No      45           No   \n",
       "4  9237-HQITU  Female              0      No         No       2          Yes   \n",
       "\n",
       "      MultipleLines InternetService OnlineSecurity  ... DeviceProtection  \\\n",
       "0  No phone service             DSL             No  ...               No   \n",
       "1                No             DSL            Yes  ...              Yes   \n",
       "2                No             DSL            Yes  ...               No   \n",
       "3  No phone service             DSL            Yes  ...              Yes   \n",
       "4                No     Fiber optic             No  ...               No   \n",
       "\n",
       "  TechSupport StreamingTV StreamingMovies        Contract PaperlessBilling  \\\n",
       "0          No          No              No  Month-to-month              Yes   \n",
       "1          No          No              No        One year               No   \n",
       "2          No          No              No  Month-to-month              Yes   \n",
       "3         Yes          No              No        One year               No   \n",
       "4          No          No              No  Month-to-month              Yes   \n",
       "\n",
       "               PaymentMethod MonthlyCharges  TotalCharges Churn  \n",
       "0           Electronic check          29.85         29.85    No  \n",
       "1               Mailed check          56.95        1889.5    No  \n",
       "2               Mailed check          53.85        108.15   Yes  \n",
       "3  Bank transfer (automatic)          42.30       1840.75    No  \n",
       "4           Electronic check          70.70        151.65   Yes  \n",
       "\n",
       "[5 rows x 21 columns]"
      ]
     },
     "execution_count": 3,
     "metadata": {},
     "output_type": "execute_result"
    }
   ],
   "source": [
    "data.head()"
   ]
  },
  {
   "cell_type": "code",
   "execution_count": 4,
   "id": "10a671dc",
   "metadata": {
    "execution": {
     "iopub.execute_input": "2025-05-15T15:09:00.587601Z",
     "iopub.status.busy": "2025-05-15T15:09:00.586793Z",
     "iopub.status.idle": "2025-05-15T15:09:00.618703Z",
     "shell.execute_reply": "2025-05-15T15:09:00.617569Z"
    },
    "papermill": {
     "duration": 0.039509,
     "end_time": "2025-05-15T15:09:00.620274",
     "exception": false,
     "start_time": "2025-05-15T15:09:00.580765",
     "status": "completed"
    },
    "tags": []
   },
   "outputs": [
    {
     "name": "stdout",
     "output_type": "stream",
     "text": [
      "<class 'pandas.core.frame.DataFrame'>\n",
      "RangeIndex: 7043 entries, 0 to 7042\n",
      "Data columns (total 21 columns):\n",
      " #   Column            Non-Null Count  Dtype  \n",
      "---  ------            --------------  -----  \n",
      " 0   customerID        7043 non-null   object \n",
      " 1   gender            7043 non-null   object \n",
      " 2   SeniorCitizen     7043 non-null   int64  \n",
      " 3   Partner           7043 non-null   object \n",
      " 4   Dependents        7043 non-null   object \n",
      " 5   tenure            7043 non-null   int64  \n",
      " 6   PhoneService      7043 non-null   object \n",
      " 7   MultipleLines     7043 non-null   object \n",
      " 8   InternetService   7043 non-null   object \n",
      " 9   OnlineSecurity    7043 non-null   object \n",
      " 10  OnlineBackup      7043 non-null   object \n",
      " 11  DeviceProtection  7043 non-null   object \n",
      " 12  TechSupport       7043 non-null   object \n",
      " 13  StreamingTV       7043 non-null   object \n",
      " 14  StreamingMovies   7043 non-null   object \n",
      " 15  Contract          7043 non-null   object \n",
      " 16  PaperlessBilling  7043 non-null   object \n",
      " 17  PaymentMethod     7043 non-null   object \n",
      " 18  MonthlyCharges    7043 non-null   float64\n",
      " 19  TotalCharges      7043 non-null   object \n",
      " 20  Churn             7043 non-null   object \n",
      "dtypes: float64(1), int64(2), object(18)\n",
      "memory usage: 1.1+ MB\n"
     ]
    }
   ],
   "source": [
    "data.info()"
   ]
  },
  {
   "cell_type": "code",
   "execution_count": 5,
   "id": "ae5c8002",
   "metadata": {
    "execution": {
     "iopub.execute_input": "2025-05-15T15:09:00.632855Z",
     "iopub.status.busy": "2025-05-15T15:09:00.632139Z",
     "iopub.status.idle": "2025-05-15T15:09:00.639985Z",
     "shell.execute_reply": "2025-05-15T15:09:00.639213Z"
    },
    "papermill": {
     "duration": 0.015818,
     "end_time": "2025-05-15T15:09:00.641536",
     "exception": false,
     "start_time": "2025-05-15T15:09:00.625718",
     "status": "completed"
    },
    "tags": []
   },
   "outputs": [],
   "source": [
    "data['TotalCharges'] = pd.to_numeric(data['TotalCharges'], errors='coerce')"
   ]
  },
  {
   "cell_type": "code",
   "execution_count": 6,
   "id": "64f532cb",
   "metadata": {
    "execution": {
     "iopub.execute_input": "2025-05-15T15:09:00.653894Z",
     "iopub.status.busy": "2025-05-15T15:09:00.653273Z",
     "iopub.status.idle": "2025-05-15T15:09:00.658142Z",
     "shell.execute_reply": "2025-05-15T15:09:00.657254Z"
    },
    "papermill": {
     "duration": 0.01275,
     "end_time": "2025-05-15T15:09:00.659768",
     "exception": false,
     "start_time": "2025-05-15T15:09:00.647018",
     "status": "completed"
    },
    "tags": []
   },
   "outputs": [],
   "source": [
    "total_changes_nan = data['TotalCharges'].isna().sum()"
   ]
  },
  {
   "cell_type": "code",
   "execution_count": 7,
   "id": "252941c2",
   "metadata": {
    "execution": {
     "iopub.execute_input": "2025-05-15T15:09:00.671960Z",
     "iopub.status.busy": "2025-05-15T15:09:00.671620Z",
     "iopub.status.idle": "2025-05-15T15:09:00.677388Z",
     "shell.execute_reply": "2025-05-15T15:09:00.676492Z"
    },
    "papermill": {
     "duration": 0.013575,
     "end_time": "2025-05-15T15:09:00.678963",
     "exception": false,
     "start_time": "2025-05-15T15:09:00.665388",
     "status": "completed"
    },
    "tags": []
   },
   "outputs": [
    {
     "data": {
      "text/plain": [
       "11"
      ]
     },
     "execution_count": 7,
     "metadata": {},
     "output_type": "execute_result"
    }
   ],
   "source": [
    "total_changes_nan"
   ]
  },
  {
   "cell_type": "code",
   "execution_count": 8,
   "id": "6da7976a",
   "metadata": {
    "execution": {
     "iopub.execute_input": "2025-05-15T15:09:00.691379Z",
     "iopub.status.busy": "2025-05-15T15:09:00.691013Z",
     "iopub.status.idle": "2025-05-15T15:09:00.696729Z",
     "shell.execute_reply": "2025-05-15T15:09:00.695783Z"
    },
    "papermill": {
     "duration": 0.013757,
     "end_time": "2025-05-15T15:09:00.698383",
     "exception": false,
     "start_time": "2025-05-15T15:09:00.684626",
     "status": "completed"
    },
    "tags": []
   },
   "outputs": [],
   "source": [
    "data['TotalCharges'] = data['TotalCharges'].fillna(0)"
   ]
  },
  {
   "cell_type": "code",
   "execution_count": 9,
   "id": "d84c8b7f",
   "metadata": {
    "execution": {
     "iopub.execute_input": "2025-05-15T15:09:00.710584Z",
     "iopub.status.busy": "2025-05-15T15:09:00.710266Z",
     "iopub.status.idle": "2025-05-15T15:09:00.716720Z",
     "shell.execute_reply": "2025-05-15T15:09:00.715821Z"
    },
    "papermill": {
     "duration": 0.014315,
     "end_time": "2025-05-15T15:09:00.718274",
     "exception": false,
     "start_time": "2025-05-15T15:09:00.703959",
     "status": "completed"
    },
    "tags": []
   },
   "outputs": [
    {
     "data": {
      "text/plain": [
       "0"
      ]
     },
     "execution_count": 9,
     "metadata": {},
     "output_type": "execute_result"
    }
   ],
   "source": [
    "data['TotalCharges'].isna().sum()"
   ]
  },
  {
   "cell_type": "code",
   "execution_count": 10,
   "id": "7c02752d",
   "metadata": {
    "execution": {
     "iopub.execute_input": "2025-05-15T15:09:00.732745Z",
     "iopub.status.busy": "2025-05-15T15:09:00.732413Z",
     "iopub.status.idle": "2025-05-15T15:09:00.746573Z",
     "shell.execute_reply": "2025-05-15T15:09:00.745792Z"
    },
    "papermill": {
     "duration": 0.02371,
     "end_time": "2025-05-15T15:09:00.747984",
     "exception": false,
     "start_time": "2025-05-15T15:09:00.724274",
     "status": "completed"
    },
    "tags": []
   },
   "outputs": [
    {
     "data": {
      "text/plain": [
       "customerID          0\n",
       "gender              0\n",
       "SeniorCitizen       0\n",
       "Partner             0\n",
       "Dependents          0\n",
       "tenure              0\n",
       "PhoneService        0\n",
       "MultipleLines       0\n",
       "InternetService     0\n",
       "OnlineSecurity      0\n",
       "OnlineBackup        0\n",
       "DeviceProtection    0\n",
       "TechSupport         0\n",
       "StreamingTV         0\n",
       "StreamingMovies     0\n",
       "Contract            0\n",
       "PaperlessBilling    0\n",
       "PaymentMethod       0\n",
       "MonthlyCharges      0\n",
       "TotalCharges        0\n",
       "Churn               0\n",
       "dtype: int64"
      ]
     },
     "execution_count": 10,
     "metadata": {},
     "output_type": "execute_result"
    }
   ],
   "source": [
    "data.isna().sum()"
   ]
  },
  {
   "cell_type": "code",
   "execution_count": 11,
   "id": "3fc1d041",
   "metadata": {
    "execution": {
     "iopub.execute_input": "2025-05-15T15:09:00.761354Z",
     "iopub.status.busy": "2025-05-15T15:09:00.760128Z",
     "iopub.status.idle": "2025-05-15T15:09:00.768217Z",
     "shell.execute_reply": "2025-05-15T15:09:00.767174Z"
    },
    "papermill": {
     "duration": 0.015951,
     "end_time": "2025-05-15T15:09:00.769721",
     "exception": false,
     "start_time": "2025-05-15T15:09:00.753770",
     "status": "completed"
    },
    "tags": []
   },
   "outputs": [
    {
     "data": {
      "text/plain": [
       "customerID           object\n",
       "gender               object\n",
       "SeniorCitizen         int64\n",
       "Partner              object\n",
       "Dependents           object\n",
       "tenure                int64\n",
       "PhoneService         object\n",
       "MultipleLines        object\n",
       "InternetService      object\n",
       "OnlineSecurity       object\n",
       "OnlineBackup         object\n",
       "DeviceProtection     object\n",
       "TechSupport          object\n",
       "StreamingTV          object\n",
       "StreamingMovies      object\n",
       "Contract             object\n",
       "PaperlessBilling     object\n",
       "PaymentMethod        object\n",
       "MonthlyCharges      float64\n",
       "TotalCharges        float64\n",
       "Churn                object\n",
       "dtype: object"
      ]
     },
     "execution_count": 11,
     "metadata": {},
     "output_type": "execute_result"
    }
   ],
   "source": [
    "data.dtypes"
   ]
  },
  {
   "cell_type": "code",
   "execution_count": 12,
   "id": "139dddf2",
   "metadata": {
    "execution": {
     "iopub.execute_input": "2025-05-15T15:09:00.782391Z",
     "iopub.status.busy": "2025-05-15T15:09:00.782036Z",
     "iopub.status.idle": "2025-05-15T15:09:00.802793Z",
     "shell.execute_reply": "2025-05-15T15:09:00.801924Z"
    },
    "papermill": {
     "duration": 0.028832,
     "end_time": "2025-05-15T15:09:00.804377",
     "exception": false,
     "start_time": "2025-05-15T15:09:00.775545",
     "status": "completed"
    },
    "tags": []
   },
   "outputs": [
    {
     "data": {
      "text/html": [
       "<div>\n",
       "<style scoped>\n",
       "    .dataframe tbody tr th:only-of-type {\n",
       "        vertical-align: middle;\n",
       "    }\n",
       "\n",
       "    .dataframe tbody tr th {\n",
       "        vertical-align: top;\n",
       "    }\n",
       "\n",
       "    .dataframe thead th {\n",
       "        text-align: right;\n",
       "    }\n",
       "</style>\n",
       "<table border=\"1\" class=\"dataframe\">\n",
       "  <thead>\n",
       "    <tr style=\"text-align: right;\">\n",
       "      <th></th>\n",
       "      <th>customerID</th>\n",
       "      <th>gender</th>\n",
       "      <th>SeniorCitizen</th>\n",
       "      <th>Partner</th>\n",
       "      <th>Dependents</th>\n",
       "      <th>tenure</th>\n",
       "      <th>PhoneService</th>\n",
       "      <th>MultipleLines</th>\n",
       "      <th>InternetService</th>\n",
       "      <th>OnlineSecurity</th>\n",
       "      <th>...</th>\n",
       "      <th>DeviceProtection</th>\n",
       "      <th>TechSupport</th>\n",
       "      <th>StreamingTV</th>\n",
       "      <th>StreamingMovies</th>\n",
       "      <th>Contract</th>\n",
       "      <th>PaperlessBilling</th>\n",
       "      <th>PaymentMethod</th>\n",
       "      <th>MonthlyCharges</th>\n",
       "      <th>TotalCharges</th>\n",
       "      <th>Churn</th>\n",
       "    </tr>\n",
       "  </thead>\n",
       "  <tbody>\n",
       "    <tr>\n",
       "      <th>0</th>\n",
       "      <td>7590-VHVEG</td>\n",
       "      <td>Female</td>\n",
       "      <td>0</td>\n",
       "      <td>Yes</td>\n",
       "      <td>No</td>\n",
       "      <td>1</td>\n",
       "      <td>No</td>\n",
       "      <td>No phone service</td>\n",
       "      <td>DSL</td>\n",
       "      <td>No</td>\n",
       "      <td>...</td>\n",
       "      <td>No</td>\n",
       "      <td>No</td>\n",
       "      <td>No</td>\n",
       "      <td>No</td>\n",
       "      <td>Month-to-month</td>\n",
       "      <td>Yes</td>\n",
       "      <td>Electronic check</td>\n",
       "      <td>29.85</td>\n",
       "      <td>29.85</td>\n",
       "      <td>No</td>\n",
       "    </tr>\n",
       "    <tr>\n",
       "      <th>1</th>\n",
       "      <td>5575-GNVDE</td>\n",
       "      <td>Male</td>\n",
       "      <td>0</td>\n",
       "      <td>No</td>\n",
       "      <td>No</td>\n",
       "      <td>34</td>\n",
       "      <td>Yes</td>\n",
       "      <td>No</td>\n",
       "      <td>DSL</td>\n",
       "      <td>Yes</td>\n",
       "      <td>...</td>\n",
       "      <td>Yes</td>\n",
       "      <td>No</td>\n",
       "      <td>No</td>\n",
       "      <td>No</td>\n",
       "      <td>One year</td>\n",
       "      <td>No</td>\n",
       "      <td>Mailed check</td>\n",
       "      <td>56.95</td>\n",
       "      <td>1889.50</td>\n",
       "      <td>No</td>\n",
       "    </tr>\n",
       "    <tr>\n",
       "      <th>2</th>\n",
       "      <td>3668-QPYBK</td>\n",
       "      <td>Male</td>\n",
       "      <td>0</td>\n",
       "      <td>No</td>\n",
       "      <td>No</td>\n",
       "      <td>2</td>\n",
       "      <td>Yes</td>\n",
       "      <td>No</td>\n",
       "      <td>DSL</td>\n",
       "      <td>Yes</td>\n",
       "      <td>...</td>\n",
       "      <td>No</td>\n",
       "      <td>No</td>\n",
       "      <td>No</td>\n",
       "      <td>No</td>\n",
       "      <td>Month-to-month</td>\n",
       "      <td>Yes</td>\n",
       "      <td>Mailed check</td>\n",
       "      <td>53.85</td>\n",
       "      <td>108.15</td>\n",
       "      <td>Yes</td>\n",
       "    </tr>\n",
       "    <tr>\n",
       "      <th>3</th>\n",
       "      <td>7795-CFOCW</td>\n",
       "      <td>Male</td>\n",
       "      <td>0</td>\n",
       "      <td>No</td>\n",
       "      <td>No</td>\n",
       "      <td>45</td>\n",
       "      <td>No</td>\n",
       "      <td>No phone service</td>\n",
       "      <td>DSL</td>\n",
       "      <td>Yes</td>\n",
       "      <td>...</td>\n",
       "      <td>Yes</td>\n",
       "      <td>Yes</td>\n",
       "      <td>No</td>\n",
       "      <td>No</td>\n",
       "      <td>One year</td>\n",
       "      <td>No</td>\n",
       "      <td>Bank transfer (automatic)</td>\n",
       "      <td>42.30</td>\n",
       "      <td>1840.75</td>\n",
       "      <td>No</td>\n",
       "    </tr>\n",
       "    <tr>\n",
       "      <th>4</th>\n",
       "      <td>9237-HQITU</td>\n",
       "      <td>Female</td>\n",
       "      <td>0</td>\n",
       "      <td>No</td>\n",
       "      <td>No</td>\n",
       "      <td>2</td>\n",
       "      <td>Yes</td>\n",
       "      <td>No</td>\n",
       "      <td>Fiber optic</td>\n",
       "      <td>No</td>\n",
       "      <td>...</td>\n",
       "      <td>No</td>\n",
       "      <td>No</td>\n",
       "      <td>No</td>\n",
       "      <td>No</td>\n",
       "      <td>Month-to-month</td>\n",
       "      <td>Yes</td>\n",
       "      <td>Electronic check</td>\n",
       "      <td>70.70</td>\n",
       "      <td>151.65</td>\n",
       "      <td>Yes</td>\n",
       "    </tr>\n",
       "  </tbody>\n",
       "</table>\n",
       "<p>5 rows × 21 columns</p>\n",
       "</div>"
      ],
      "text/plain": [
       "   customerID  gender  SeniorCitizen Partner Dependents  tenure PhoneService  \\\n",
       "0  7590-VHVEG  Female              0     Yes         No       1           No   \n",
       "1  5575-GNVDE    Male              0      No         No      34          Yes   \n",
       "2  3668-QPYBK    Male              0      No         No       2          Yes   \n",
       "3  7795-CFOCW    Male              0      No         No      45           No   \n",
       "4  9237-HQITU  Female              0      No         No       2          Yes   \n",
       "\n",
       "      MultipleLines InternetService OnlineSecurity  ... DeviceProtection  \\\n",
       "0  No phone service             DSL             No  ...               No   \n",
       "1                No             DSL            Yes  ...              Yes   \n",
       "2                No             DSL            Yes  ...               No   \n",
       "3  No phone service             DSL            Yes  ...              Yes   \n",
       "4                No     Fiber optic             No  ...               No   \n",
       "\n",
       "  TechSupport StreamingTV StreamingMovies        Contract PaperlessBilling  \\\n",
       "0          No          No              No  Month-to-month              Yes   \n",
       "1          No          No              No        One year               No   \n",
       "2          No          No              No  Month-to-month              Yes   \n",
       "3         Yes          No              No        One year               No   \n",
       "4          No          No              No  Month-to-month              Yes   \n",
       "\n",
       "               PaymentMethod MonthlyCharges  TotalCharges  Churn  \n",
       "0           Electronic check          29.85         29.85     No  \n",
       "1               Mailed check          56.95       1889.50     No  \n",
       "2               Mailed check          53.85        108.15    Yes  \n",
       "3  Bank transfer (automatic)          42.30       1840.75     No  \n",
       "4           Electronic check          70.70        151.65    Yes  \n",
       "\n",
       "[5 rows x 21 columns]"
      ]
     },
     "execution_count": 12,
     "metadata": {},
     "output_type": "execute_result"
    }
   ],
   "source": [
    "data.head()"
   ]
  },
  {
   "cell_type": "code",
   "execution_count": 13,
   "id": "42708078",
   "metadata": {
    "execution": {
     "iopub.execute_input": "2025-05-15T15:09:00.818023Z",
     "iopub.status.busy": "2025-05-15T15:09:00.817741Z",
     "iopub.status.idle": "2025-05-15T15:09:00.826105Z",
     "shell.execute_reply": "2025-05-15T15:09:00.825232Z"
    },
    "papermill": {
     "duration": 0.016709,
     "end_time": "2025-05-15T15:09:00.827690",
     "exception": false,
     "start_time": "2025-05-15T15:09:00.810981",
     "status": "completed"
    },
    "tags": []
   },
   "outputs": [
    {
     "data": {
      "text/plain": [
       "array([0, 0, 1, ..., 0, 1, 0])"
      ]
     },
     "execution_count": 13,
     "metadata": {},
     "output_type": "execute_result"
    }
   ],
   "source": [
    "LabelEncoder().fit_transform(data['Churn'])"
   ]
  },
  {
   "cell_type": "code",
   "execution_count": 14,
   "id": "30918aca",
   "metadata": {
    "execution": {
     "iopub.execute_input": "2025-05-15T15:09:00.841275Z",
     "iopub.status.busy": "2025-05-15T15:09:00.840902Z",
     "iopub.status.idle": "2025-05-15T15:09:00.847025Z",
     "shell.execute_reply": "2025-05-15T15:09:00.846261Z"
    },
    "papermill": {
     "duration": 0.014475,
     "end_time": "2025-05-15T15:09:00.848460",
     "exception": false,
     "start_time": "2025-05-15T15:09:00.833985",
     "status": "completed"
    },
    "tags": []
   },
   "outputs": [],
   "source": [
    "data['Churn'] = data['Churn'].map({'Yes': 1, 'No': 0})"
   ]
  },
  {
   "cell_type": "code",
   "execution_count": 15,
   "id": "3155963b",
   "metadata": {
    "execution": {
     "iopub.execute_input": "2025-05-15T15:09:00.861875Z",
     "iopub.status.busy": "2025-05-15T15:09:00.861593Z",
     "iopub.status.idle": "2025-05-15T15:09:00.867952Z",
     "shell.execute_reply": "2025-05-15T15:09:00.867086Z"
    },
    "papermill": {
     "duration": 0.014833,
     "end_time": "2025-05-15T15:09:00.869515",
     "exception": false,
     "start_time": "2025-05-15T15:09:00.854682",
     "status": "completed"
    },
    "tags": []
   },
   "outputs": [],
   "source": [
    "cat_columns= data.select_dtypes(include=['object']).columns.drop('customerID')"
   ]
  },
  {
   "cell_type": "code",
   "execution_count": 16,
   "id": "24423fbb",
   "metadata": {
    "execution": {
     "iopub.execute_input": "2025-05-15T15:09:00.882948Z",
     "iopub.status.busy": "2025-05-15T15:09:00.882633Z",
     "iopub.status.idle": "2025-05-15T15:09:00.908956Z",
     "shell.execute_reply": "2025-05-15T15:09:00.907953Z"
    },
    "papermill": {
     "duration": 0.035052,
     "end_time": "2025-05-15T15:09:00.910686",
     "exception": false,
     "start_time": "2025-05-15T15:09:00.875634",
     "status": "completed"
    },
    "tags": []
   },
   "outputs": [],
   "source": [
    "#one-hot encoding\n",
    "data_encoded= pd.get_dummies(data, columns=cat_columns, drop_first=True)"
   ]
  },
  {
   "cell_type": "code",
   "execution_count": 17,
   "id": "64a56951",
   "metadata": {
    "execution": {
     "iopub.execute_input": "2025-05-15T15:09:00.924888Z",
     "iopub.status.busy": "2025-05-15T15:09:00.924069Z",
     "iopub.status.idle": "2025-05-15T15:09:00.931919Z",
     "shell.execute_reply": "2025-05-15T15:09:00.930721Z"
    },
    "papermill": {
     "duration": 0.016693,
     "end_time": "2025-05-15T15:09:00.933610",
     "exception": false,
     "start_time": "2025-05-15T15:09:00.916917",
     "status": "completed"
    },
    "tags": []
   },
   "outputs": [],
   "source": [
    "data_encoded = data_encoded.drop('customerID', axis=1)"
   ]
  },
  {
   "cell_type": "code",
   "execution_count": 18,
   "id": "cbbbccd1",
   "metadata": {
    "execution": {
     "iopub.execute_input": "2025-05-15T15:09:00.946982Z",
     "iopub.status.busy": "2025-05-15T15:09:00.946691Z",
     "iopub.status.idle": "2025-05-15T15:09:00.953076Z",
     "shell.execute_reply": "2025-05-15T15:09:00.952166Z"
    },
    "papermill": {
     "duration": 0.014923,
     "end_time": "2025-05-15T15:09:00.954721",
     "exception": false,
     "start_time": "2025-05-15T15:09:00.939798",
     "status": "completed"
    },
    "tags": []
   },
   "outputs": [],
   "source": [
    "#özellikler\n",
    "X = data_encoded.drop('Churn', axis=1)\n",
    "y = data_encoded['Churn']"
   ]
  },
  {
   "cell_type": "code",
   "execution_count": 19,
   "id": "5498bf7c",
   "metadata": {
    "execution": {
     "iopub.execute_input": "2025-05-15T15:09:00.968712Z",
     "iopub.status.busy": "2025-05-15T15:09:00.968407Z",
     "iopub.status.idle": "2025-05-15T15:09:00.978610Z",
     "shell.execute_reply": "2025-05-15T15:09:00.977573Z"
    },
    "papermill": {
     "duration": 0.019018,
     "end_time": "2025-05-15T15:09:00.980329",
     "exception": false,
     "start_time": "2025-05-15T15:09:00.961311",
     "status": "completed"
    },
    "tags": []
   },
   "outputs": [],
   "source": [
    "X_train, X_test, y_train, y_test = train_test_split(X, y, test_size=0.2, random_state=42)"
   ]
  },
  {
   "cell_type": "code",
   "execution_count": 20,
   "id": "e6dbb6f7",
   "metadata": {
    "execution": {
     "iopub.execute_input": "2025-05-15T15:09:00.993972Z",
     "iopub.status.busy": "2025-05-15T15:09:00.993643Z",
     "iopub.status.idle": "2025-05-15T15:09:01.039087Z",
     "shell.execute_reply": "2025-05-15T15:09:01.038048Z"
    },
    "papermill": {
     "duration": 0.054312,
     "end_time": "2025-05-15T15:09:01.040863",
     "exception": false,
     "start_time": "2025-05-15T15:09:00.986551",
     "status": "completed"
    },
    "tags": []
   },
   "outputs": [],
   "source": [
    "scaler= StandardScaler()\n",
    "X_train = scaler.fit_transform(X_train)\n",
    "X_test = scaler.transform(X_test)"
   ]
  },
  {
   "cell_type": "code",
   "execution_count": 21,
   "id": "983b990c",
   "metadata": {
    "execution": {
     "iopub.execute_input": "2025-05-15T15:09:01.055011Z",
     "iopub.status.busy": "2025-05-15T15:09:01.054456Z",
     "iopub.status.idle": "2025-05-15T15:09:01.302601Z",
     "shell.execute_reply": "2025-05-15T15:09:01.299741Z"
    },
    "papermill": {
     "duration": 0.25721,
     "end_time": "2025-05-15T15:09:01.304641",
     "exception": false,
     "start_time": "2025-05-15T15:09:01.047431",
     "status": "completed"
    },
    "tags": []
   },
   "outputs": [],
   "source": [
    "#logistic regression\n",
    "lr = LogisticRegression(random_state=42)\n",
    "lr.fit(X_train, y_train)\n",
    "y_pred_lr = lr.predict(X_test)\n",
    "lr_acc = accuracy_score(y_test, y_pred_lr)\n",
    "lr_f1 = f1_score(y_test, y_pred_lr)"
   ]
  },
  {
   "cell_type": "code",
   "execution_count": 22,
   "id": "c31c3c62",
   "metadata": {
    "execution": {
     "iopub.execute_input": "2025-05-15T15:09:01.327713Z",
     "iopub.status.busy": "2025-05-15T15:09:01.326818Z",
     "iopub.status.idle": "2025-05-15T15:09:02.169153Z",
     "shell.execute_reply": "2025-05-15T15:09:02.168248Z"
    },
    "papermill": {
     "duration": 0.856318,
     "end_time": "2025-05-15T15:09:02.170862",
     "exception": false,
     "start_time": "2025-05-15T15:09:01.314544",
     "status": "completed"
    },
    "tags": []
   },
   "outputs": [],
   "source": [
    "#RandomForestClassifier\n",
    "rf=RandomForestClassifier(random_state=42, n_estimators=100)\n",
    "rf.fit(X_train,y_train)\n",
    "y_pred_rf = rf.predict(X_test)\n",
    "rf_acc=accuracy_score(y_test, y_pred_lr)\n",
    "rf_f1 = f1_score(y_test, y_pred_rf)"
   ]
  },
  {
   "cell_type": "code",
   "execution_count": 23,
   "id": "15447a70",
   "metadata": {
    "execution": {
     "iopub.execute_input": "2025-05-15T15:09:02.187217Z",
     "iopub.status.busy": "2025-05-15T15:09:02.186533Z",
     "iopub.status.idle": "2025-05-15T15:09:02.192205Z",
     "shell.execute_reply": "2025-05-15T15:09:02.191465Z"
    },
    "papermill": {
     "duration": 0.014538,
     "end_time": "2025-05-15T15:09:02.193785",
     "exception": false,
     "start_time": "2025-05-15T15:09:02.179247",
     "status": "completed"
    },
    "tags": []
   },
   "outputs": [
    {
     "data": {
      "text/plain": [
       "(0.8211497515968772,\n",
       " 0.6389684813753581,\n",
       " 0.8211497515968772,\n",
       " 0.5253164556962026)"
      ]
     },
     "execution_count": 23,
     "metadata": {},
     "output_type": "execute_result"
    }
   ],
   "source": [
    "#SONUÇLAR\n",
    "lr_acc, lr_f1, rf_acc, rf_f1"
   ]
  },
  {
   "cell_type": "code",
   "execution_count": 24,
   "id": "7ce9a30c",
   "metadata": {
    "execution": {
     "iopub.execute_input": "2025-05-15T15:09:02.207514Z",
     "iopub.status.busy": "2025-05-15T15:09:02.207155Z",
     "iopub.status.idle": "2025-05-15T15:09:02.211775Z",
     "shell.execute_reply": "2025-05-15T15:09:02.210893Z"
    },
    "papermill": {
     "duration": 0.013113,
     "end_time": "2025-05-15T15:09:02.213236",
     "exception": false,
     "start_time": "2025-05-15T15:09:02.200123",
     "status": "completed"
    },
    "tags": []
   },
   "outputs": [],
   "source": [
    "results= {\n",
    "    \"MODEL\": ['Logistic Regression', 'Random Forest'],\n",
    "    \"ACCURACY\": [lr_acc, rf_acc],\n",
    "    \"F1 SCORE\": [lr_f1, rf_f1]\n",
    "}"
   ]
  },
  {
   "cell_type": "code",
   "execution_count": 25,
   "id": "698bc80f",
   "metadata": {
    "execution": {
     "iopub.execute_input": "2025-05-15T15:09:02.227513Z",
     "iopub.status.busy": "2025-05-15T15:09:02.226673Z",
     "iopub.status.idle": "2025-05-15T15:09:02.231608Z",
     "shell.execute_reply": "2025-05-15T15:09:02.230672Z"
    },
    "papermill": {
     "duration": 0.013632,
     "end_time": "2025-05-15T15:09:02.233344",
     "exception": false,
     "start_time": "2025-05-15T15:09:02.219712",
     "status": "completed"
    },
    "tags": []
   },
   "outputs": [],
   "source": [
    "results_data = pd.DataFrame(results)"
   ]
  },
  {
   "cell_type": "code",
   "execution_count": 26,
   "id": "60f89546",
   "metadata": {
    "execution": {
     "iopub.execute_input": "2025-05-15T15:09:02.247019Z",
     "iopub.status.busy": "2025-05-15T15:09:02.246706Z",
     "iopub.status.idle": "2025-05-15T15:09:02.255784Z",
     "shell.execute_reply": "2025-05-15T15:09:02.254891Z"
    },
    "papermill": {
     "duration": 0.0177,
     "end_time": "2025-05-15T15:09:02.257341",
     "exception": false,
     "start_time": "2025-05-15T15:09:02.239641",
     "status": "completed"
    },
    "tags": []
   },
   "outputs": [
    {
     "data": {
      "text/html": [
       "<div>\n",
       "<style scoped>\n",
       "    .dataframe tbody tr th:only-of-type {\n",
       "        vertical-align: middle;\n",
       "    }\n",
       "\n",
       "    .dataframe tbody tr th {\n",
       "        vertical-align: top;\n",
       "    }\n",
       "\n",
       "    .dataframe thead th {\n",
       "        text-align: right;\n",
       "    }\n",
       "</style>\n",
       "<table border=\"1\" class=\"dataframe\">\n",
       "  <thead>\n",
       "    <tr style=\"text-align: right;\">\n",
       "      <th></th>\n",
       "      <th>MODEL</th>\n",
       "      <th>ACCURACY</th>\n",
       "      <th>F1 SCORE</th>\n",
       "    </tr>\n",
       "  </thead>\n",
       "  <tbody>\n",
       "    <tr>\n",
       "      <th>0</th>\n",
       "      <td>Logistic Regression</td>\n",
       "      <td>0.82115</td>\n",
       "      <td>0.638968</td>\n",
       "    </tr>\n",
       "    <tr>\n",
       "      <th>1</th>\n",
       "      <td>Random Forest</td>\n",
       "      <td>0.82115</td>\n",
       "      <td>0.525316</td>\n",
       "    </tr>\n",
       "  </tbody>\n",
       "</table>\n",
       "</div>"
      ],
      "text/plain": [
       "                 MODEL  ACCURACY  F1 SCORE\n",
       "0  Logistic Regression   0.82115  0.638968\n",
       "1        Random Forest   0.82115  0.525316"
      ]
     },
     "execution_count": 26,
     "metadata": {},
     "output_type": "execute_result"
    }
   ],
   "source": [
    "results_data"
   ]
  }
 ],
 "metadata": {
  "kaggle": {
   "accelerator": "none",
   "dataSources": [
    {
     "datasetId": 13996,
     "sourceId": 18858,
     "sourceType": "datasetVersion"
    }
   ],
   "dockerImageVersionId": 31040,
   "isGpuEnabled": false,
   "isInternetEnabled": true,
   "language": "python",
   "sourceType": "notebook"
  },
  "kernelspec": {
   "display_name": "Python 3",
   "language": "python",
   "name": "python3"
  },
  "language_info": {
   "codemirror_mode": {
    "name": "ipython",
    "version": 3
   },
   "file_extension": ".py",
   "mimetype": "text/x-python",
   "name": "python",
   "nbconvert_exporter": "python",
   "pygments_lexer": "ipython3",
   "version": "3.11.11"
  },
  "papermill": {
   "default_parameters": {},
   "duration": 12.682999,
   "end_time": "2025-05-15T15:09:02.885363",
   "environment_variables": {},
   "exception": null,
   "input_path": "__notebook__.ipynb",
   "output_path": "__notebook__.ipynb",
   "parameters": {},
   "start_time": "2025-05-15T15:08:50.202364",
   "version": "2.6.0"
  }
 },
 "nbformat": 4,
 "nbformat_minor": 5
}
